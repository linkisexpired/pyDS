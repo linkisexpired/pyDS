{
 "cells": [
  {
   "cell_type": "code",
   "execution_count": 392,
   "id": "eddc7802-3127-4292-9cad-204a4c8b7447",
   "metadata": {},
   "outputs": [],
   "source": [
    "import re\n",
    "\n",
    "def is_valid(car_number):\n",
    "    pattern = r'\\b([А, В, Е, К, М, Н, О, Р, С, Т, У, Х]{1}[1-9]{3}[А, В, Е, К, М, Н, О, Р, С, Т, У, Х]{2})(\\d{2})\\b'\n",
    "    valid = re.findall(pattern, car_number)\n",
    "    if valid:\n",
    "        return f'Результат:Номер {valid[0][0]} валиден. Регион: {valid[0][-1]}'\n",
    "    else:\n",
    "        return 'Результат: Номер не валиден'\n"
   ]
  },
  {
   "cell_type": "code",
   "execution_count": 394,
   "id": "a43e7d1f-7632-4113-8a8e-d4dd6801e01e",
   "metadata": {},
   "outputs": [
    {
     "data": {
      "text/plain": [
       "'Результат: Номер не валиден'"
      ]
     },
     "execution_count": 394,
     "metadata": {},
     "output_type": "execute_result"
    }
   ],
   "source": [
    "is_valid('АВ321КМ48')"
   ]
  },
  {
   "cell_type": "code",
   "execution_count": 396,
   "id": "b83f9855-86e0-4b3b-943b-7880b74e3b57",
   "metadata": {},
   "outputs": [
    {
     "data": {
      "text/plain": [
       "'Результат:Номер А321КМ валиден. Регион: 48'"
      ]
     },
     "execution_count": 396,
     "metadata": {},
     "output_type": "execute_result"
    }
   ],
   "source": [
    "is_valid(' А321КМ48')"
   ]
  },
  {
   "cell_type": "code",
   "execution_count": 398,
   "id": "759ce104-4e55-4eea-8d6a-8e5017021dd7",
   "metadata": {},
   "outputs": [
    {
     "data": {
      "text/plain": [
       "'Результат:Номер А321КМ валиден. Регион: 48'"
      ]
     },
     "execution_count": 398,
     "metadata": {},
     "output_type": "execute_result"
    }
   ],
   "source": [
    "is_valid('А321КМ48')"
   ]
  },
  {
   "cell_type": "code",
   "execution_count": null,
   "id": "0f8c4573-006c-4549-9f7e-0f4d4ec504f2",
   "metadata": {},
   "outputs": [],
   "source": []
  },
  {
   "cell_type": "code",
   "execution_count": null,
   "id": "e9f57897-b436-4999-b8e8-d4f8771035e4",
   "metadata": {},
   "outputs": [],
   "source": []
  }
 ],
 "metadata": {
  "kernelspec": {
   "display_name": "Python 3 (ipykernel)",
   "language": "python",
   "name": "python3"
  },
  "language_info": {
   "codemirror_mode": {
    "name": "ipython",
    "version": 3
   },
   "file_extension": ".py",
   "mimetype": "text/x-python",
   "name": "python",
   "nbconvert_exporter": "python",
   "pygments_lexer": "ipython3",
   "version": "3.12.4"
  }
 },
 "nbformat": 4,
 "nbformat_minor": 5
}
