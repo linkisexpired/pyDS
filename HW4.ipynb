{
 "cells": [
  {
   "cell_type": "code",
   "execution_count": 30,
   "id": "10b8e6c7-af6e-4bba-8d7d-4c40595c8451",
   "metadata": {},
   "outputs": [],
   "source": [
    "with open(\"purchase_log.txt\", encoding=\"utf-8\") as f:\n",
    "    data = f.read().splitlines()"
   ]
  },
  {
   "cell_type": "code",
   "execution_count": 32,
   "id": "b2c14bc2-c524-4a0a-bf24-01089f97eee6",
   "metadata": {},
   "outputs": [],
   "source": [
    "my_dict = {}\n",
    "x=1\n",
    "while x < len(data):\n",
    "    d = json.loads(data[x])\n",
    "    my_dict[d[\"user_id\"]] = d[\"category\"]\n",
    "    x = x+1"
   ]
  },
  {
   "cell_type": "code",
   "execution_count": 36,
   "id": "9160a920-5eb1-4d92-af3f-067dcfce4deb",
   "metadata": {},
   "outputs": [
    {
     "name": "stdout",
     "output_type": "stream",
     "text": [
      "[('1840e0b9d4', 'Продукты'), ('4e4f90fcfb', 'Электроника')]\n"
     ]
    }
   ],
   "source": [
    "print(list(my_dict.items())[0:2])"
   ]
  },
  {
   "cell_type": "code",
   "execution_count": null,
   "id": "2969a561-f981-4397-b08c-a7568edac7e4",
   "metadata": {},
   "outputs": [],
   "source": []
  }
 ],
 "metadata": {
  "kernelspec": {
   "display_name": "Python 3 (ipykernel)",
   "language": "python",
   "name": "python3"
  },
  "language_info": {
   "codemirror_mode": {
    "name": "ipython",
    "version": 3
   },
   "file_extension": ".py",
   "mimetype": "text/x-python",
   "name": "python",
   "nbconvert_exporter": "python",
   "pygments_lexer": "ipython3",
   "version": "3.12.4"
  }
 },
 "nbformat": 4,
 "nbformat_minor": 5
}
