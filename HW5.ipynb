{
 "cells": [
  {
   "cell_type": "code",
   "execution_count": 107,
   "id": "ad2b9be9-6c09-4d7c-9619-b265839d1cec",
   "metadata": {},
   "outputs": [],
   "source": [
    "from datetime import datetime,timedelta"
   ]
  },
  {
   "cell_type": "code",
   "execution_count": 109,
   "id": "7a6c0f1c-4c01-476b-a08b-f0caac2d4229",
   "metadata": {},
   "outputs": [],
   "source": [
    "def parse_date(date):\n",
    "    try:\n",
    "        return datetime.strptime(date, '%Y-%m-%d')\n",
    "    except ValueError:\n",
    "        pass\n",
    "    raise ValueError(f'Неизвестный формат даты {date}')"
   ]
  },
  {
   "cell_type": "code",
   "execution_count": 117,
   "id": "6d085197-c0b3-4a0f-9c36-6d5bcfd3f73d",
   "metadata": {},
   "outputs": [],
   "source": [
    "def date_range(start_date, end_date):\n",
    "    dates = []\n",
    "    try:\n",
    "        parse_date(start_date)\n",
    "        parse_date(end_date)\n",
    "    except ValueError:\n",
    "        return dates\n",
    "    s = parse_date(start_date)\n",
    "    e = parse_date(end_date)\n",
    "    if (s > e)|(s == e+timedelta(days=1)):\n",
    "        return dates\n",
    "    else:\n",
    "        while s < e:\n",
    "            dates.append(s.strftime('%Y-%m-%d'))\n",
    "            s = s+timedelta(days=1)\n",
    "        dates.append(e.strftime('%Y-%m-%d'))\n",
    "        return dates\n",
    "            "
   ]
  },
  {
   "cell_type": "code",
   "execution_count": 119,
   "id": "c640b3c3-2c2e-4628-b518-aa7ce3f8dc46",
   "metadata": {},
   "outputs": [
    {
     "data": {
      "text/plain": [
       "['2022-01-01', '2022-01-02', '2022-01-03']"
      ]
     },
     "execution_count": 119,
     "metadata": {},
     "output_type": "execute_result"
    }
   ],
   "source": [
    "date_range('2022-01-01', '2022-01-03')"
   ]
  },
  {
   "cell_type": "code",
   "execution_count": 121,
   "id": "0ed1ac38-6564-4e13-8f89-fcd0c2918eb4",
   "metadata": {},
   "outputs": [
    {
     "data": {
      "text/plain": [
       "[]"
      ]
     },
     "execution_count": 121,
     "metadata": {},
     "output_type": "execute_result"
    }
   ],
   "source": [
    "date_range('2022-01-03', '2022-01-01')"
   ]
  },
  {
   "cell_type": "code",
   "execution_count": 123,
   "id": "4cd3fbb4-18ba-48db-bdf5-9d5da099d681",
   "metadata": {},
   "outputs": [
    {
     "data": {
      "text/plain": [
       "[]"
      ]
     },
     "execution_count": 123,
     "metadata": {},
     "output_type": "execute_result"
    }
   ],
   "source": [
    "date_range('2022-02-30', '2022-02-31')"
   ]
  },
  {
   "cell_type": "code",
   "execution_count": null,
   "id": "934e52a3-18cd-492d-8d37-cb3c280163fd",
   "metadata": {},
   "outputs": [],
   "source": []
  }
 ],
 "metadata": {
  "kernelspec": {
   "display_name": "Python 3 (ipykernel)",
   "language": "python",
   "name": "python3"
  },
  "language_info": {
   "codemirror_mode": {
    "name": "ipython",
    "version": 3
   },
   "file_extension": ".py",
   "mimetype": "text/x-python",
   "name": "python",
   "nbconvert_exporter": "python",
   "pygments_lexer": "ipython3",
   "version": "3.12.4"
  }
 },
 "nbformat": 4,
 "nbformat_minor": 5
}
