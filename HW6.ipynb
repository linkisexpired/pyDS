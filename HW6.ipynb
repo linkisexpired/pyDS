{
 "cells": [
  {
   "cell_type": "code",
   "execution_count": 1,
   "id": "71613f56-412f-45b4-a6fa-0183c73225da",
   "metadata": {},
   "outputs": [],
   "source": [
    "import requests"
   ]
  },
  {
   "cell_type": "code",
   "execution_count": 103,
   "id": "6159f1ee-9905-4598-9592-b88ec79ecc71",
   "metadata": {},
   "outputs": [],
   "source": [
    "class Rate:  \n",
    "    def __init__(self, format_, diff_):\n",
    "        self.format = format_ \n",
    "        if format_ == 'full':\n",
    "            self.diff = 'False'\n",
    "            if diff_ != 'False':\n",
    "                print('При отображении всей информации о валюте просмотр динамики курса недоступен, будет показан текущий курс')\n",
    "        if format_ == 'value':\n",
    "            self.format = format_\n",
    "            self.diff = diff_\n",
    "    def show_current_format(self):\n",
    "        return self.format\n",
    "    def exchange_rates(self):\n",
    "        self.r = requests.get('https://www.cbr-xml-daily.ru/daily_json.js')\n",
    "        return self.r.json()['Valute']\n",
    "    def make_format(self, currency):\n",
    "        response = self.exchange_rates() \n",
    "        if currency in response:\n",
    "            if self.format == 'full':\n",
    "                return response[currency]\n",
    "            if self.format == 'value':\n",
    "                return response[currency]['Value']\n",
    "        return 'Error'\n",
    "    def eur(self):\n",
    "        \"\"\"Возвращает курс евро на сегодня в формате self.format\"\"\"\n",
    "        if self.diff == 'True':\n",
    "            return self.diff_find('EUR')\n",
    "        else:\n",
    "            return self.make_format('EUR')  \n",
    "    def usd(self):\n",
    "        \"\"\"Возвращает курс доллара на сегодня в формате self.format\"\"\"\n",
    "        return self.make_format('USD')    \n",
    "    def brl(self):\n",
    "        \"\"\"Возвращает курс бразильского реала на сегодня в формате self.format\"\"\"\n",
    "        return self.make_format('BRL')\n",
    "    def max_rate(self):\n",
    "        max_rate_name = 'default'\n",
    "        max_rate_value = 0\n",
    "        for rate_name in self.exchange_rates():\n",
    "            if self.exchange_rates()[rate_name]['Value'] > max_rate_value:\n",
    "                max_rate_value = self.exchange_rates()[rate_name]['Value']\n",
    "                max_rate_name = self.exchange_rates()[rate_name]['Name']\n",
    "        return max_rate_name\n",
    "    def diff_find(self, format_):\n",
    "        self.r = requests.get('https://www.cbr-xml-daily.ru/daily_json.js')\n",
    "        previous_rate_source = 'http:' + self.r.json()['PreviousURL']\n",
    "        self.r1 = requests.get(previous_rate_source)\n",
    "        yesterday_rate = self.r1.json()['Valute'][format_]['Value']\n",
    "        today_rate = self.r.json()['Valute'][format_]['Value']\n",
    "        return today_rate-yesterday_rate"
   ]
  },
  {
   "cell_type": "code",
   "execution_count": 105,
   "id": "5c70c79c-a32e-489b-a77c-0260a62307a6",
   "metadata": {},
   "outputs": [],
   "source": [
    "r = Rate(format_='value', diff_ = 'False')"
   ]
  },
  {
   "cell_type": "code",
   "execution_count": 107,
   "id": "08327e56-c976-4df0-bb18-361ffff2c8f5",
   "metadata": {},
   "outputs": [
    {
     "data": {
      "text/plain": [
       "'СДР (специальные права заимствования)'"
      ]
     },
     "execution_count": 107,
     "metadata": {},
     "output_type": "execute_result"
    }
   ],
   "source": [
    "r.max_rate()"
   ]
  },
  {
   "cell_type": "code",
   "execution_count": 108,
   "id": "28901fce-28c4-4120-a9af-71839ad02761",
   "metadata": {},
   "outputs": [],
   "source": [
    "r1 = Rate(format_='value', diff_ = 'True')"
   ]
  },
  {
   "cell_type": "code",
   "execution_count": 109,
   "id": "d9a4bde6-cb78-40e8-bdb4-2bd8c770bd12",
   "metadata": {},
   "outputs": [
    {
     "data": {
      "text/plain": [
       "0.7284000000000077"
      ]
     },
     "execution_count": 109,
     "metadata": {},
     "output_type": "execute_result"
    }
   ],
   "source": [
    "r1.eur()"
   ]
  },
  {
   "cell_type": "code",
   "execution_count": 110,
   "id": "84612399-f0fd-4ce0-8cc1-f56069cdf493",
   "metadata": {},
   "outputs": [
    {
     "data": {
      "text/plain": [
       "106.4175"
      ]
     },
     "execution_count": 110,
     "metadata": {},
     "output_type": "execute_result"
    }
   ],
   "source": [
    "r.eur()"
   ]
  },
  {
   "cell_type": "code",
   "execution_count": null,
   "id": "f068e620-ac7b-4595-be52-0633215ab70d",
   "metadata": {},
   "outputs": [],
   "source": []
  }
 ],
 "metadata": {
  "kernelspec": {
   "display_name": "Python 3 (ipykernel)",
   "language": "python",
   "name": "python3"
  },
  "language_info": {
   "codemirror_mode": {
    "name": "ipython",
    "version": 3
   },
   "file_extension": ".py",
   "mimetype": "text/x-python",
   "name": "python",
   "nbconvert_exporter": "python",
   "pygments_lexer": "ipython3",
   "version": "3.12.4"
  }
 },
 "nbformat": 4,
 "nbformat_minor": 5
}
