{
 "cells": [
  {
   "cell_type": "code",
   "execution_count": 37,
   "id": "14a06002-55f0-49a8-ab0e-348c330d546a",
   "metadata": {},
   "outputs": [],
   "source": [
    "ids = {'user1': [213,213,213,15,213], 'user2': [54,54,119,119,119], 'user3': [213,98,98,35]}\n",
    "a = list(ids.values())\n"
   ]
  },
  {
   "cell_type": "code",
   "execution_count": 42,
   "id": "2f4c1845-9135-435e-a33b-6d138c70b12a",
   "metadata": {},
   "outputs": [],
   "source": [
    "for i in a:\n",
    "    for j in i:\n",
    "        b.add(j)"
   ]
  },
  {
   "cell_type": "code",
   "execution_count": 44,
   "id": "c9f43ec8-efbc-4c5c-ba9d-c5de1b192a00",
   "metadata": {},
   "outputs": [
    {
     "name": "stdout",
     "output_type": "stream",
     "text": [
      "{98, 35, 213, 54, 119, 15}\n"
     ]
    }
   ],
   "source": [
    "b = set(b)\n",
    "print(b)\n"
   ]
  },
  {
   "cell_type": "code",
   "execution_count": null,
   "id": "31253b8e-63a8-40b2-8909-815067957cf4",
   "metadata": {},
   "outputs": [],
   "source": []
  }
 ],
 "metadata": {
  "kernelspec": {
   "display_name": "Python 3 (ipykernel)",
   "language": "python",
   "name": "python3"
  },
  "language_info": {
   "codemirror_mode": {
    "name": "ipython",
    "version": 3
   },
   "file_extension": ".py",
   "mimetype": "text/x-python",
   "name": "python",
   "nbconvert_exporter": "python",
   "pygments_lexer": "ipython3",
   "version": "3.12.4"
  }
 },
 "nbformat": 4,
 "nbformat_minor": 5
}
