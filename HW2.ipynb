{
 "cells": [
  {
   "cell_type": "code",
   "execution_count": 65,
   "id": "028c52f0-c3ff-4903-9ce6-dd7626ee6a00",
   "metadata": {},
   "outputs": [],
   "source": [
    "def p():\n",
    "    user_input = input('Введите номер документа')\n",
    "    name = next((i for i, item in enumerate(documents) if item['number'] == user_input), None)\n",
    "    return documents[name]['name']"
   ]
  },
  {
   "cell_type": "code",
   "execution_count": 67,
   "id": "adaab81a-1a15-47fc-9997-824eadf485cb",
   "metadata": {},
   "outputs": [],
   "source": [
    "def s():\n",
    "    user_input = input('Введите номер документа')\n",
    "    shelf = next(i for i in directories if user_input in directories[i])\n",
    "    return shelf"
   ]
  },
  {
   "cell_type": "code",
   "execution_count": 69,
   "id": "5219a3e8-cfbf-4321-99e2-ba4968858d99",
   "metadata": {},
   "outputs": [],
   "source": [
    "documents = [\n",
    "{'type': 'passport', 'number': '2207 876234', 'name': 'Василий Гупкин'},\n",
    "{'type': 'invoice', 'number': '11-2', 'name': 'Геннадий Покемонов'},\n",
    "{'type': 'insurance', 'number': '10006', 'name': 'Аристарх Павлов'}\n",
    "]"
   ]
  },
  {
   "cell_type": "code",
   "execution_count": 71,
   "id": "666baad8-7a7e-41f7-8315-9c0192e4cb13",
   "metadata": {},
   "outputs": [],
   "source": [
    "directories = {\n",
    "'1': ['2207 876234', '11-2'],\n",
    "'2': ['10006'],\n",
    "'3': []\n",
    "}"
   ]
  },
  {
   "cell_type": "code",
   "execution_count": 77,
   "id": "ae8c5e89-2ad7-4aa6-a874-17c8234b84e4",
   "metadata": {},
   "outputs": [
    {
     "name": "stdout",
     "output_type": "stream",
     "text": [
      "Введите команду p, s или q\n"
     ]
    },
    {
     "name": "stdin",
     "output_type": "stream",
     "text": [
      " p\n",
      "Введите номер документа 11-2\n"
     ]
    },
    {
     "name": "stdout",
     "output_type": "stream",
     "text": [
      "Геннадий Покемонов\n",
      "Введите команду p, s или q\n"
     ]
    },
    {
     "name": "stdin",
     "output_type": "stream",
     "text": [
      " s\n",
      "Введите номер документа 11-2\n"
     ]
    },
    {
     "name": "stdout",
     "output_type": "stream",
     "text": [
      "1\n",
      "Введите команду p, s или q\n"
     ]
    },
    {
     "name": "stdin",
     "output_type": "stream",
     "text": [
      " p\n",
      "Введите номер документа 10006\n"
     ]
    },
    {
     "name": "stdout",
     "output_type": "stream",
     "text": [
      "Аристарх Павлов\n",
      "Введите команду p, s или q\n"
     ]
    },
    {
     "name": "stdin",
     "output_type": "stream",
     "text": [
      " s\n",
      "Введите номер документа 10006\n"
     ]
    },
    {
     "name": "stdout",
     "output_type": "stream",
     "text": [
      "2\n",
      "Введите команду p, s или q\n"
     ]
    },
    {
     "name": "stdin",
     "output_type": "stream",
     "text": [
      " q\n"
     ]
    }
   ],
   "source": [
    "while True:\n",
    "    print(\"Введите команду p, s или q\")\n",
    "    choice = input()\n",
    "    if choice == 'p':\n",
    "        print(p())\n",
    "    elif choice == 's':\n",
    "        print(s())\n",
    "    elif choice == 'q':\n",
    "        break\n",
    "    else: \n",
    "        print(\"Введите команду p, s или q\")"
   ]
  },
  {
   "cell_type": "code",
   "execution_count": null,
   "id": "d2695015-ee43-47a1-84ec-33de0669ed6c",
   "metadata": {},
   "outputs": [],
   "source": []
  }
 ],
 "metadata": {
  "kernelspec": {
   "display_name": "Python 3 (ipykernel)",
   "language": "python",
   "name": "python3"
  },
  "language_info": {
   "codemirror_mode": {
    "name": "ipython",
    "version": 3
   },
   "file_extension": ".py",
   "mimetype": "text/x-python",
   "name": "python",
   "nbconvert_exporter": "python",
   "pygments_lexer": "ipython3",
   "version": "3.12.4"
  }
 },
 "nbformat": 4,
 "nbformat_minor": 5
}
